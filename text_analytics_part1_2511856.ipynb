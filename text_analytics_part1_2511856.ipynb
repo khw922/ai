{
 "cells": [
  {
   "cell_type": "markdown",
   "id": "794243c0",
   "metadata": {},
   "source": [
    "# Text Analytics Coursework -- Tasks 1.1 to 1.3\n",
    "\n",
    "# Instructions:\n",
    "\n",
    "This notebook is forms the first part of your coursework assignment for Text Analytics in Spring 2025. You will need to read the instructions below and complete numbered tasks indicated by \"TASK n\". To complete the tasks, you will write code or explanations between the comments \"#WRITE YOUR ANSWER HERE\" and \"#END OF ANSWER\". For example:\n",
    "\n",
    "TASK 0: Complete the function below to output \"hello world\". \n"
   ]
  },
  {
   "cell_type": "code",
   "execution_count": 1,
   "id": "5486ee90",
   "metadata": {},
   "outputs": [
    {
     "name": "stdout",
     "output_type": "stream",
     "text": [
      "hello world\n"
     ]
    }
   ],
   "source": [
    "def demo_fun():\n",
    "    # WRITE YOUR ANSWER HERE\n",
    "    print(\"hello world\")\n",
    "    # END OF ANSWER\n",
    "\n",
    "### DO NOT MODIFY\n",
    "demo_fun()\n",
    "###"
   ]
  },
  {
   "cell_type": "markdown",
   "id": "a422f8fe",
   "metadata": {},
   "source": [
    "There is also some code in the cell that should not be modified. This code saves your results to file in the correct format, which is necessary for us to be able to mark your answers. Before you submit your notebook, please make sure this code has not been modified, then restart your kernel, clear all cell outputs, run all of your code once again, then save the notebook. \n",
    "\n",
    "Please note:\n",
    "  * The notebook you upload must include all the saved cell output after running all cells.\n",
    "  * The notebook code must be complete so that it reproduces all your output when we run it. \n",
    "  * For this coursework, we recommend that you use your virtual environment that you created for the labs. The packages you need are: numpy, scipy, nltk, pytorch, transformers and datasets (from HuggingFace), pandas, matplotlib and scikit-learn. \n",
    "\n",
    "## Marking guidelines:\n",
    "1. This notebook is worth 32% of the marks for the Text Analytics assignment.\n",
    "1. The number of marks for each task is shown alongside the task.\n",
    "1. We will evaluate the output of your code after running it, and marks will be awarded based on how well the output matches the task's instructions. \n",
    "1. We will give partial marks for incomplete or partially correct answers. \n",
    "1. We do not give additional marks for code style or comments, but clear code will help us to understand what you have done so that we can award partial marks where necessary. \n",
    "1. Unless the task asks you to implement something from scratch, there is no penalty for using software libraries in your implementation.\n",
    "\n",
    "## Support:\n",
    "\n",
    "The main source of support will be during the lab sessions. The TAs and lecturers will help you with questions about the lectures, the code provided for you in this notebook, and general questions about the topics we cover. For the assessed tasks, they can only answer clarifying questions about what you have to do. Please email Edwin if you have any other queries edwin.simpson@bristol.ac.uk and/or post your query to the Teams channel for this unit.\n",
    "\n",
    "## Deadline:\n",
    "\n",
    "The notebook must be submitted along with the second notebook on Blackboard before **Monday 28th April at 13.00**. \n",
    "\n",
    "## Submission:\n",
    "\n",
    "For this part of the assignment, please zip up the folder containing this file and the 'outputs' directory, containing the output from this notebook as .csv files. Please name your notebook file like this:\n",
    "   * Name this notebook 'text_analytics_part1_\\<student number\\>.ipynb'. Replace '\\<student number\\>' with your student number, which consists only of digits beginning with '2'. \n",
    "   * We mark anonymously, so please don't include your name in the notebook.\n",
    "\n",
    "You can submit the file on Blackboard to the submission point \"Text Analytics Part 1 Notebook\". Remember that the assignment also has parts 2 and 3, described in the PDF file on Blackboard."
   ]
  },
  {
   "cell_type": "markdown",
   "id": "54ff04e2",
   "metadata": {},
   "source": [
    "# Setup: random seeds\n",
    "\n",
    "Each student will work with slightly different data splits and model weights, which will be determined by setting your 'random seed'. \n",
    "We will check that your results come from using your random seed. Please set the seed in the cell below by changing the value of 'my_student_number' to your own student number (not your username, the number you can see on eVision that contains only digits). \n",
    "\n",
    "Using the correct seed ensures that your results are reproducible when we rerun your notebook."
   ]
  },
  {
   "cell_type": "code",
   "execution_count": 2,
   "id": "80bd735e",
   "metadata": {},
   "outputs": [],
   "source": [
    "import torch\n",
    "import random\n",
    "import numpy as np\n",
    "\n",
    "def set_seed(seed: int = 42):\n",
    "    random.seed(seed)  # Python's built-in random module\n",
    "    np.random.seed(seed)  # NumPy\n",
    "    torch.manual_seed(seed)  # PyTorch CPU\n",
    "    torch.cuda.manual_seed(seed)  # PyTorch GPU (if available)\n",
    "    torch.cuda.manual_seed_all(seed)  # Multi-GPU\n",
    "    torch.backends.cudnn.deterministic = True  # Ensure deterministic behavior\n",
    "    torch.backends.cudnn.benchmark = False  # Disable benchmark mode for reproducibility\n",
    "\n",
    "### SET YOUR SEED TO YOUR STUDENT NUMBER HERE\n",
    "my_student_number = 2511856\n",
    "set_seed(my_student_number)"
   ]
  },
  {
   "cell_type": "markdown",
   "id": "2877d086",
   "metadata": {},
   "source": [
    "# Setup: loading the data\n",
    "\n",
    "Let's make a folder to save the output of your work:"
   ]
  },
  {
   "cell_type": "code",
   "execution_count": 3,
   "id": "60bd9213",
   "metadata": {},
   "outputs": [],
   "source": [
    "import os\n",
    "import pandas as pd\n",
    "\n",
    "os.mkdir('./outputs')"
   ]
  },
  {
   "cell_type": "markdown",
   "id": "f79fc2c4",
   "metadata": {},
   "source": [
    "Now, let's load some more packages we will need later:"
   ]
  },
  {
   "cell_type": "code",
   "execution_count": 4,
   "id": "annoying-ethiopia",
   "metadata": {},
   "outputs": [],
   "source": [
    "%load_ext autoreload\n",
    "%autoreload 2\n",
    "\n",
    "# Use HuggingFace's datasets library to access the Emotion dataset\n",
    "from datasets import load_dataset\n",
    "import numpy as np\n",
    "from sklearn.model_selection import train_test_split "
   ]
  },
  {
   "cell_type": "markdown",
   "id": "09e90e82-bbdb-4532-91b1-58229d4f1043",
   "metadata": {},
   "source": [
    "\n",
    "The dataset classifies paragraphs taken from corporate disclosures that discuss climate-related issues. It classifiers them into \"risk\" (0), \"neutral\" (1) or \"opportunity\" (2) representing the sentiment of the paragraph.\n",
    "\n",
    "First we need to load the data. The data is already split into train, validation and test. The _validation_ set (also called 'development' set or 'devset') can be used to compute performance of your model when tuning hyperparameters, optimising combinations of features, or looking at the errors your model makes before improving it. This allows you to hold out the test set (i.e., not to look at it at all when developing your method) to give a fair evaluation of the model and how well it generalises to new examples. This avoids tuning the model to specific examples in the test set. An alternative approach to validation is to not use a single fixed validation set, but instead use [cross validation](https://scikit-learn.org/stable/modules/cross_validation.html). "
   ]
  },
  {
   "cell_type": "code",
   "execution_count": 5,
   "id": "efaf1096-acce-4226-a172-5357f49e91c1",
   "metadata": {},
   "outputs": [
    {
     "data": {
      "application/vnd.jupyter.widget-view+json": {
       "model_id": "767e14439dbe4021b5f61571a630d02c",
       "version_major": 2,
       "version_minor": 0
      },
      "text/plain": [
       "Downloading data files:   0%|          | 0/2 [00:00<?, ?it/s]"
      ]
     },
     "metadata": {},
     "output_type": "display_data"
    },
    {
     "name": "stderr",
     "output_type": "stream",
     "text": [
      "\n",
      "Downloading data:   0%|                              | 0.00/273k [00:00<?, ?B/s]\u001b[A\n",
      "Downloading data: 100%|██████████████████████| 273k/273k [00:00<00:00, 1.29MB/s]\u001b[A\n",
      "\n",
      "Downloading data:   0%|                              | 0.00/101k [00:00<?, ?B/s]\u001b[A\n",
      "Downloading data: 100%|███████████████████████| 101k/101k [00:00<00:00, 836kB/s]\u001b[A\n"
     ]
    },
    {
     "data": {
      "application/vnd.jupyter.widget-view+json": {
       "model_id": "6dc0fd9632fd4b93a24467d7b841a152",
       "version_major": 2,
       "version_minor": 0
      },
      "text/plain": [
       "Extracting data files:   0%|          | 0/2 [00:00<?, ?it/s]"
      ]
     },
     "metadata": {},
     "output_type": "display_data"
    },
    {
     "data": {
      "application/vnd.jupyter.widget-view+json": {
       "model_id": "9163a3125a5d41b2b5c86d0e738ec5af",
       "version_major": 2,
       "version_minor": 0
      },
      "text/plain": [
       "Generating train split:   0%|          | 0/1000 [00:00<?, ? examples/s]"
      ]
     },
     "metadata": {},
     "output_type": "display_data"
    },
    {
     "data": {
      "application/vnd.jupyter.widget-view+json": {
       "model_id": "6922b54dc1e543f1adaddf91d25ec249",
       "version_major": 2,
       "version_minor": 0
      },
      "text/plain": [
       "Generating test split:   0%|          | 0/320 [00:00<?, ? examples/s]"
      ]
     },
     "metadata": {},
     "output_type": "display_data"
    },
    {
     "name": "stdout",
     "output_type": "stream",
     "text": [
      "Training dataset with 800 instances loaded\n",
      "Development/validation dataset with 200 instances loaded\n"
     ]
    }
   ],
   "source": [
    "cache_dir = \"./data_cache\"\n",
    "\n",
    "# load the original training set from HuggingFace\n",
    "train_dataset = load_dataset(\n",
    "    \"climatebert/climate_sentiment\",\n",
    "    split=\"train\",\n",
    "    cache_dir=cache_dir,\n",
    ")\n",
    "\n",
    "# we're going to create a new validation set by splitting the data\n",
    "dataset_splits = train_dataset.train_test_split(test_size=0.2)\n",
    "train_dataset = dataset_splits[\"train\"]\n",
    "val_dataset = dataset_splits[\"test\"]\n",
    "\n",
    "train_texts = np.array(train_dataset[\"text\"])\n",
    "val_texts = np.array(val_dataset[\"text\"])\n",
    "\n",
    "train_labels = np.array(train_dataset[\"label\"])\n",
    "val_labels = np.array(val_dataset[\"label\"])\n",
    "\n",
    "print(f\"Training dataset with {len(train_texts)} instances loaded\")\n",
    "print(f\"Development/validation dataset with {len(val_texts)} instances loaded\")\n",
    "\n",
    "### DO NOT MODIFY\n",
    "# save gold labels to file\n",
    "pd.DataFrame(val_labels).to_csv('./outputs/val_labels.csv')"
   ]
  },
  {
   "cell_type": "markdown",
   "id": "38916c42",
   "metadata": {},
   "source": [
    "In this notebook, you're going to build three different classifiers for this dataset, then compare how they work, and analyse the results. We are going to start by implementing a naïve Bayes classifier from scratch. \n",
    "\n",
    "We are going to begin by initialising some useful variables and doing some very simple pre-processing using CountVectorizer."
   ]
  },
  {
   "cell_type": "code",
   "execution_count": 6,
   "id": "5fb3e757",
   "metadata": {},
   "outputs": [
    {
     "name": "stderr",
     "output_type": "stream",
     "text": [
      "/Users/wukehui/anaconda3/envs/text_analytics/lib/python3.11/site-packages/sklearn/feature_extraction/text.py:528: UserWarning: The parameter 'token_pattern' will not be used since 'tokenizer' is not None'\n",
      "  warnings.warn(\n"
     ]
    }
   ],
   "source": [
    "from sklearn.feature_extraction.text import CountVectorizer\n",
    "from nltk import word_tokenize\n",
    "\n",
    "num_classes = 3\n",
    "\n",
    "def preprocess(train_texts):\n",
    "    vectorizer = CountVectorizer(ngram_range=(2,2), tokenizer=word_tokenize)\n",
    "    X = vectorizer.fit_transform(train_texts).toarray()\n",
    "    num_features = X.shape[1]\n",
    "\n",
    "    X_val = vectorizer.transform(val_texts).toarray()\n",
    "\n",
    "    return X, X_val, vectorizer, num_features\n",
    "\n",
    "X, X_val, vectorizer, num_features = preprocess(train_texts)"
   ]
  },
  {
   "cell_type": "markdown",
   "id": "9cb1f7d1",
   "metadata": {},
   "source": [
    "## TASK 1.1a\n",
    "\n",
    "Complete the function below to compute the class priors, $p(y_n = c)$ for each class label $c$, where $y_n$ is the class label of document $n$. Do not use the Sklearn implementation to do this, but implement it yourself, e.g., using Numpy functions. The function must output the class priors as a list or Numpy array containing the probabilities. You do not need to apply any smoothing or regularisation.    (3 marks)"
   ]
  },
  {
   "cell_type": "code",
   "execution_count": 7,
   "id": "79e7da69",
   "metadata": {},
   "outputs": [
    {
     "name": "stdout",
     "output_type": "stream",
     "text": [
      "[0.33875 0.41125 0.25   ]\n"
     ]
    }
   ],
   "source": [
    "def compute_class_priors(texts, labels):\n",
    "    priors = np.zeros(num_classes)\n",
    "\n",
    "    ### WRITE YOUR ANSWER HERE\n",
    "    \n",
    "    # Count occurrences of each unique class in the labels\n",
    "    unique_classes, class_counts = np.unique(labels, return_counts=True)\n",
    "\n",
    "    # Compute prior probability for each class\n",
    "    priors[unique_classes] = class_counts / len(labels)\n",
    "\n",
    "    ### END OF ANSWER\n",
    "    return priors\n",
    "\n",
    "\n",
    "class_priors = compute_class_priors(train_texts, train_labels)\n",
    "print(class_priors)\n",
    "\n",
    "### DO NOT MODIFY\n",
    "pd.DataFrame(class_priors).to_csv('./outputs/11a_class_priors.csv')"
   ]
  },
  {
   "cell_type": "markdown",
   "id": "3bc8c63e",
   "metadata": {},
   "source": [
    "## TASK 1.1b\n",
    "\n",
    "Complete the function below to extract n-gram features from the text, then compute the liklihood $p(x_{ni} = w | y_n = c)$ that the $i$ th n-gram in document $n$ is $w$, given that the class of $n$ is $c$. Again, do not use the Sklearn implementation to do this, but implement it yourself, e.g., using Numpy functions. The function must output the likelihoods as a 2D Numpy array containing probabilities. You should apply smoothing by adding counts of +1 to the counts of each feature.  (3 marks)"
   ]
  },
  {
   "cell_type": "code",
   "execution_count": 8,
   "id": "91d8722e",
   "metadata": {},
   "outputs": [],
   "source": [
    "def compute_feature_likelihoods(X, labels):\n",
    "\n",
    "    likelihoods = np.ones((num_features, num_classes))  # a 2D numpy array where you can store the likelihoods. Note that all values are initialised to one.\n",
    "\n",
    "    ### WRITE YOUR ANSWER HERE\n",
    "    \n",
    "    # Count occurrences of each feature for each class\n",
    "    for c in range(num_classes):\n",
    "        class_indices = np.where(labels == c)[0]  # Get indices of documents in class c\n",
    "        class_feature_counts = X[class_indices].sum(axis=0)  # Sum feature occurrences for class c\n",
    "        \n",
    "        # Compute likelihood with Laplace smoothing\n",
    "        likelihoods[:, c] = (class_feature_counts + 1) / (class_feature_counts.sum() + num_features)\n",
    "\n",
    "    ### END OF ANSWER\n",
    "    return likelihoods\n",
    "\n",
    "likelihoods = compute_feature_likelihoods(X, train_labels)\n",
    "\n",
    "### DO NOT MODIFY\n",
    "pd.DataFrame(likelihoods).to_csv('./outputs/11b_likelihoods.csv')"
   ]
  },
  {
   "cell_type": "markdown",
   "id": "8f6a867a",
   "metadata": {},
   "source": [
    "Now, we are going to use the code in the next cell to compute the log probabilities of each class for each text in the validation set. This code will use the previous functions you implemented, compute_class_priors and compute_feature_likelihoods. The log probabilities will be stored in the 'predictions' array."
   ]
  },
  {
   "cell_type": "code",
   "execution_count": 9,
   "id": "30194a65",
   "metadata": {
    "scrolled": false
   },
   "outputs": [
    {
     "name": "stdout",
     "output_type": "stream",
     "text": [
      "[[-1.27982614e+01 -1.02745411e+00 -4.43042037e-01]\n",
      " [-2.10852069e+01 -2.30081127e-08 -1.76181503e+01]\n",
      " [-7.32489993e+00 -1.80622984e-01 -1.80429130e+00]\n",
      " [-1.83669289e+01 -1.05526397e-08 -2.84852121e+01]\n",
      " [-1.17275924e+01 -8.18345666e-06 -1.59755353e+01]\n",
      " [-6.82587414e-02 -2.71838502e+00 -2.47279616e+01]\n",
      " [-4.67698027e+00 -1.81842040e-02 -4.74296293e+00]\n",
      " [-1.55264462e+01 -8.74151427e+00 -1.60005203e-04]\n",
      " [-3.02400984e-02 -3.59329065e+00 -6.08367730e+00]\n",
      " [-1.70696126e-06 -1.36000349e+01 -1.45779907e+01]\n",
      " [-8.56309138e-01 -5.53382841e-01 -8.21036700e+00]\n",
      " [-4.93081178e-01 -9.43625944e-01 -1.00243883e+01]\n",
      " [-1.15514906e+01 -9.62175949e-06 -2.45140982e+01]\n",
      " [-1.24403294e-02 -4.39448928e+00 -1.09204464e+01]\n",
      " [-2.99636291e+01 -1.13686838e-13 -4.18797924e+01]\n",
      " [-4.27751107e+01 -1.08040882e-03 -6.83095593e+00]\n",
      " [-4.03653227e-01 -1.10536768e+00 -6.87316762e+00]\n",
      " [-2.31110916e-02 -3.80235457e+00 -7.54657411e+00]\n",
      " [-4.50612765e+00 -1.12096210e-02 -9.15306607e+00]\n",
      " [-8.24689041e+00 -1.23855060e+00 -3.42583312e-01]\n",
      " [-1.49605660e+01 -5.09900564e-05 -9.89016568e+00]\n",
      " [-1.09778161e+01 -3.43883548e-04 -8.02632109e+00]\n",
      " [-1.15576309e+01 -5.28591751e-05 -1.00474737e+01]\n",
      " [-2.37799916e+01 -1.67545515e+01 -5.29635145e-08]\n",
      " [-4.40185029e+01 -3.65888321e+01  0.00000000e+00]\n",
      " [-1.91951531e+01 -3.42564817e-07 -1.49003524e+01]\n",
      " [-1.83996398e+01 -2.73213699e-03 -5.90404070e+00]\n",
      " [-1.81745470e+01 -1.58432350e+00 -2.29521976e-01]\n",
      " [-4.87253337e+01 -4.16511710e+01  0.00000000e+00]\n",
      " [-2.47403852e+01 -1.10276233e-10 -2.31062295e+01]\n",
      " [-1.36361678e-09 -2.04131353e+01 -3.90569437e+01]\n",
      " [-2.19372717e+01 -3.87408039e+00 -2.09922360e-02]\n",
      " [-2.87775612e+01 -1.98732738e+01 -2.33995934e-09]\n",
      " [-2.87304431e+01 -1.19164113e+01 -6.67989735e-06]\n",
      " [-1.47651958e+01 -2.14382624e+01 -3.87352088e-07]\n",
      " [-2.94560019e+01 -1.75164699e+01 -2.47000003e-08]\n",
      " [-1.11586434e+01 -2.85287116e-03 -5.86587067e+00]\n",
      " [ 0.00000000e+00 -3.58123607e+01 -3.98729373e+01]\n",
      " [-1.08084355e-03 -7.41984535e+00 -7.63960621e+00]\n",
      " [-9.30369778e+00 -5.86813447e-04 -7.60983319e+00]\n",
      " [-2.08741977e-04 -8.47451601e+00 -2.67953142e+01]\n",
      " [ 0.00000000e+00 -4.21787060e+01 -3.74030833e+01]\n",
      " [-1.60298986e+01 -4.25743754e-01 -1.05924879e+00]\n",
      " [-8.48605432e+01  0.00000000e+00 -6.63722747e+01]\n",
      " [-1.73955231e+01 -9.08944018e+00 -1.12885474e-04]\n",
      " [-3.58889687e-04 -7.93645828e+00 -1.35117132e+01]\n",
      " [-1.13686838e-13 -3.00814087e+01 -3.87474960e+01]\n",
      " [-1.67024175e+01 -6.95029485e-04 -7.27198402e+00]\n",
      " [-4.78933089e-08 -1.68542898e+01 -3.24980057e+01]\n",
      " [-5.37321906e+00 -2.45530718e-02 -3.93146460e+00]\n",
      " [-2.64415196e+01 -6.16751095e-11 -2.35637253e+01]\n",
      " [-3.18689606e-04 -8.15085404e+00 -1.04093271e+01]\n",
      " [-2.39611039e+01 -1.25279589e-05 -1.12875571e+01]\n",
      " [-2.01695383e+01 -8.33119884e-09 -1.88374870e+01]\n",
      " [ 0.00000000e+00 -3.25717511e+01 -3.56021409e+01]\n",
      " [-3.14886319e+01 -9.43600753e-12 -2.53872478e+01]\n",
      " [-2.27435242e-02 -3.79484541e+00 -1.45960672e+01]\n",
      " [-1.26763192e+01 -1.70477628e+00 -2.00668251e-01]\n",
      " [-9.38775559e+00 -1.88648072e-04 -9.16262622e+00]\n",
      " [-7.86925278e+00 -5.53210411e-02 -2.92926417e+00]\n",
      " [-1.42281219e+01 -8.51642058e+00 -2.00836669e-04]\n",
      " [-1.32178707e+01 -1.81793592e-06 -2.29221339e+01]\n",
      " [ 0.00000000e+00 -6.27445412e+01 -8.57313353e+01]\n",
      " [-2.59412459e+01 -1.79261406e-09 -2.01426225e+01]\n",
      " [-3.72139822e+00 -2.44987704e-02 -1.38113547e+01]\n",
      " [ 0.00000000e+00 -3.96967551e+01 -4.55433047e+01]\n",
      " [-2.11653989e+01 -5.00727699e-02 -3.01920986e+00]\n",
      " [-2.62155150e+00 -3.29217919e-01 -1.57106470e+00]\n",
      " [-4.34294083e+01 -1.56069078e+01 -1.66727091e-07]\n",
      " [-5.16396780e+00 -6.54457581e-03 -7.12560806e+00]\n",
      " [-8.06445501e+00 -1.04626217e+01 -3.43166549e-04]\n",
      " [-5.30288652e+00 -5.28273370e-03 -8.14013348e+00]\n",
      " [-4.33068950e-01 -1.04559544e+00 -1.32533435e+01]\n",
      " [-3.16011248e+01  0.00000000e+00 -3.48657604e+01]\n",
      " [-1.76223011e+01 -8.25028037e-02 -2.53589109e+00]\n",
      " [-3.89766340e+00 -2.82298453e-02 -4.88675854e+00]\n",
      " [-3.84168288e-07 -1.53096934e+01 -1.56497415e+01]\n",
      " [-2.47735511e+00 -1.59373766e-01 -2.75896368e+00]\n",
      " [-2.17878949e-03 -6.99543268e+00 -6.67635685e+00]\n",
      " [-1.71053592e-02 -4.07690400e+00 -2.08984272e+01]\n",
      " [-1.42228273e+01 -6.65433618e-07 -3.05421157e+01]\n",
      " [-6.55545707e-01 -7.32222786e-01 -1.29720100e+01]\n",
      " [-4.07017408e-04 -7.80689245e+00 -1.80858881e+01]\n",
      " [-1.89857019e-11 -2.46876739e+01 -3.42169718e+01]\n",
      " [-2.87856347e+00 -2.26743481e+00 -1.74106984e-01]\n",
      " [-1.04008843e+01 -3.04198809e-05 -1.80960725e+01]\n",
      " [ 0.00000000e+00 -4.43910722e+01 -5.36407894e+01]\n",
      " [-5.77632687e-06 -1.21040789e+01 -1.52450144e+01]\n",
      " [-8.44001546e+00 -1.78042148e+00 -1.84864545e-01]\n",
      " [-1.82660558e+01 -8.89951354e+00 -1.36476275e-04]\n",
      " [-2.73318108e+01 -7.61621275e+00 -4.92524427e-04]\n",
      " [-2.17444665e+00 -1.23193479e-01 -6.10290090e+00]\n",
      " [-1.74204862e-02 -4.05976123e+00 -1.10128387e+01]\n",
      " [ 0.00000000e+00 -5.61395306e+01 -5.43495091e+01]\n",
      " [-3.01940813e+00 -5.29950642e-02 -5.88343724e+00]\n",
      " [-8.93230378e+00 -1.32117157e-04 -1.67163195e+01]\n",
      " [-2.00165870e+01 -5.48816388e-08 -1.67557248e+01]\n",
      " [-1.22236603e+01 -1.54746594e+01 -5.10314453e-06]\n",
      " [-4.07247499e+01 -3.56902129e+01  0.00000000e+00]\n",
      " [-7.92136071e+00 -4.89371061e-02 -3.04921588e+00]\n",
      " [-2.12061928e-03 -6.15923763e+00 -1.23096210e+01]\n",
      " [-6.59278558e+00 -1.38282754e-03 -1.13598540e+01]\n",
      " [-1.21862703e+01 -2.08358321e+00 -1.32946949e-01]\n",
      " [-4.23884635e+00 -1.53858215e-02 -7.07754551e+00]\n",
      " [-2.63237771e+01 -9.08278078e-01 -5.16203285e-01]\n",
      " [-1.63084646e+01 -1.37363467e-03 -6.59104197e+00]\n",
      " [-4.99293983e+01 -1.47112473e+01 -4.08306732e-07]\n",
      " [-3.83743213e-07 -1.47732923e+01 -3.66734574e+01]\n",
      " [-2.41886976e-01 -1.53779150e+00 -1.98260182e+01]\n",
      " [-4.85714963e-07 -1.45376443e+01 -3.00448043e+01]\n",
      " [-1.03955632e+01 -3.05682728e-05 -3.94037087e+01]\n",
      " [-1.28984635e-06 -1.35611917e+01 -2.20601634e+01]\n",
      " [-2.18267426e+00 -1.19616802e-01 -2.24397448e+01]\n",
      " [-9.82412980e+00 -5.42011113e-05 -1.64738437e+01]\n",
      " [-2.00429170e+01 -1.69060771e+01 -4.74507260e-08]\n",
      " [-3.83555841e-01 -1.14393171e+00 -1.31635974e+01]\n",
      " [-2.27693010e+01 -9.95214577e-10 -2.08671494e+01]\n",
      " [-1.57116617e+01 -7.37346304e+00 -6.28038010e-04]\n",
      " [-5.77952700e+00 -4.49833381e-01 -1.02394437e+00]\n",
      " [-4.25376052e+00 -1.43126327e-02 -2.23738511e+01]\n",
      " [-1.72249972e+01 -6.30974051e+00 -1.82019367e-03]\n",
      " [-1.83293878e-06 -1.32095946e+01 -2.57096939e+01]\n",
      " [ 0.00000000e+00 -8.48186962e+01 -9.82912545e+01]\n",
      " [-1.84172677e-11 -2.47152409e+01 -3.95976452e+01]\n",
      " [-2.33526666e+01 -1.34036657e-06 -1.35226219e+01]\n",
      " [-1.42427082e+01 -7.70028691e-07 -1.59551798e+01]\n",
      " [-1.04187714e+01 -2.98877774e-05 -1.76893282e+01]\n",
      " [-5.78045099e+00 -3.00983805e+00 -5.38090722e-02]\n",
      " [-1.89981400e+01 -1.06884518e+01 -2.28126732e-05]\n",
      " [-5.59187003e-04 -7.49108070e+00 -1.38244248e+01]\n",
      " [-1.87581175e-03 -6.28111249e+00 -1.28090472e+01]\n",
      " [-2.13370560e+01 -1.29051614e-09 -2.10119511e+01]\n",
      " [-1.04080130e+01 -5.08226670e+00 -6.25554111e-03]\n",
      " [ 0.00000000e+00 -8.30342599e+01 -9.27807720e+01]\n",
      " [-1.50162910e-03 -6.50196290e+00 -1.83043591e+01]\n",
      " [-9.61801216e+00 -1.52820351e+00 -2.44611778e-01]\n",
      " [-2.33885954e+01 -1.41894407e+01 -6.88094758e-07]\n",
      " [-1.88771126e+00 -2.05197747e-01 -3.37858128e+00]\n",
      " [ 0.00000000e+00 -3.52157605e+01 -4.84935567e+01]\n",
      " [-4.15783634e-01 -1.45409499e+00 -2.23899740e+00]\n",
      " [-1.12482894e+01 -5.23787417e-05 -1.01430704e+01]\n",
      " [-2.13969423e+01 -9.43506254e+00 -7.98775104e-05]\n",
      " [-1.54672091e-06 -1.33793742e+01 -4.42006757e+01]\n",
      " [-4.61148443e+01  0.00000000e+00 -3.28072774e+01]\n",
      " [-1.63769244e+01 -8.06648953e-01 -5.91225061e-01]\n",
      " [-7.57465619e-01 -9.37715316e-01 -1.96879138e+00]\n",
      " [-3.71977277e-01 -1.17257164e+00 -6.84922442e+00]\n",
      " [-2.64013278e+01 -3.41060513e-12 -3.37306629e+01]\n",
      " [ 0.00000000e+00 -4.95285544e+01 -5.66989061e+01]\n",
      " [-5.39290306e+01  0.00000000e+00 -5.17997878e+01]\n",
      " [-1.23742531e+01 -1.01876256e+01 -4.18600174e-05]\n",
      " [-9.94388946e+00 -3.31618312e+00 -3.70158166e-02]\n",
      " [ 0.00000000e+00 -6.85716345e+01 -8.36570192e+01]\n",
      " [-1.70582460e+01 -1.28693674e+01 -2.61481659e-06]\n",
      " [ 0.00000000e+00 -3.42643486e+01 -4.03691417e+01]\n",
      " [-1.32024708e+01 -7.84233609e-05 -9.47724968e+00]\n",
      " [ 0.00000000e+00 -4.82997741e+01 -6.55764763e+01]\n",
      " [-2.77065780e+01 -1.07662753e+01 -2.10994269e-05]\n",
      " [-1.10714375e+01 -7.67622348e-05 -9.70121476e+00]\n",
      " [-1.26671745e+01 -3.00593410e+00 -5.07625454e-02]\n",
      " [-3.31088162e+01  0.00000000e+00 -4.13480683e+01]\n",
      " [-2.74011193e+01 -6.36646291e-10 -2.11768014e+01]\n",
      " [-4.79545664e+00 -8.30168168e-03 -1.61691130e+01]\n",
      " [-7.08198217e+00 -4.42681272e-03 -5.63325247e+00]\n",
      " [-2.91889752e+01 -2.49122119e-03 -5.99622760e+00]\n",
      " [-6.14780314e+00 -2.14314223e-03 -1.28321386e+01]\n",
      " [-7.03305798e+00 -8.88713354e-04 -1.20090673e+01]\n",
      " [ 0.00000000e+00 -3.52157605e+01 -4.84935567e+01]\n",
      " [-2.14592541e+01 -1.42191013e-01 -2.02083719e+00]\n",
      " [-8.17763881e+00 -9.41500930e-01 -4.94825699e-01]\n",
      " [-1.94837522e+01 -3.79292811e-06 -1.24832852e+01]\n",
      " [-6.95268624e+01  0.00000000e+00 -1.06223030e+02]\n",
      " [-1.10904943e+01 -1.61587541e-05 -1.39186931e+01]\n",
      " [-1.34968339e-05 -1.27460949e+01 -1.14562554e+01]\n",
      " [-1.01298115e-03 -7.29150358e+00 -8.01289270e+00]\n",
      " [ 0.00000000e+00 -6.48877987e+01 -7.17437711e+01]\n",
      " [-1.87362490e+01 -7.30551619e-09 -2.51678473e+01]\n",
      " [-1.00943992e+00 -4.53404297e-01 -9.06359131e+00]\n",
      " [-2.17543485e+01 -9.86097524e+00 -5.21731627e-05]\n",
      " [-1.02383546e+01 -3.76003923e-05 -1.32122747e+01]\n",
      " [-2.40229079e+01 -1.11989341e+01 -1.36889103e-05]\n",
      " [-5.90529237e+00 -1.49941720e-02 -4.40982266e+00]\n",
      " [-4.83352161e+00 -8.11821246e-03 -8.97208381e+00]\n",
      " [-7.31727856e-01 -6.56864905e-01 -7.70914459e+00]\n",
      " [-2.53800181e-09 -1.97918870e+01 -3.15157990e+01]\n",
      " [-9.18250750e-05 -9.35281365e+00 -1.21863119e+01]\n",
      " [-3.29420016e+01  0.00000000e+00 -3.64001714e+01]\n",
      " [ 0.00000000e+00 -3.86364204e+01 -5.32715389e+01]\n",
      " [-2.76891028e+01 -9.37916411e-13 -3.68260645e+01]\n",
      " [-2.08414540e+01 -1.11711782e+01 -1.40750324e-05]\n",
      " [-7.52949355e+00 -8.28907074e-02 -2.53816504e+00]\n",
      " [-3.64875982e+01 -3.31411660e+01  0.00000000e+00]\n",
      " [-3.64850621e-08 -1.71281566e+01 -2.34507412e+01]\n",
      " [ 0.00000000e+00 -4.55182699e+01 -5.60519765e+01]\n",
      " [-7.84922705e-04 -7.24933015e+00 -9.51192565e+00]\n",
      " [-4.19055030e+00 -1.52609245e-02 -1.18533557e+01]\n",
      " [-1.13067513e-03 -6.79484653e+00 -1.14635265e+01]\n",
      " [-3.62459633e-02 -3.33549645e+00 -1.72056092e+01]\n",
      " [-4.43690067e-06 -1.23255573e+01 -2.66206540e+01]\n",
      " [-6.20919593e-01 -7.71046603e-01 -1.07571005e+01]]\n"
     ]
    }
   ],
   "source": [
    "from scipy.special import logsumexp\n",
    "\n",
    "\n",
    "def NB_classify(class_priors, likelihoods, X_val):\n",
    "\n",
    "    predictions = np.zeros((X_val.shape[0], num_classes))  # an empty numpy array to store the predictions in\n",
    "\n",
    "    sum_of_log_likelihoods = X_val.dot(np.log(likelihoods))\n",
    "    log_joint_prob = sum_of_log_likelihoods + np.log(class_priors)[None, :]\n",
    "    for n, doc in enumerate(X_val):\n",
    "        predictions[n, :] = log_joint_prob[n]\n",
    "        predictions[n, :] -= logsumexp(predictions[n, :])\n",
    "    return predictions\n",
    "\n",
    "predictions = NB_classify(class_priors, likelihoods, X_val)\n",
    "print(predictions)"
   ]
  },
  {
   "cell_type": "markdown",
   "id": "d25d91f5",
   "metadata": {},
   "source": [
    "Use the 'predictions' array above to compute and print the accuracy of the classifier on the validation set.   "
   ]
  },
  {
   "cell_type": "code",
   "execution_count": 10,
   "id": "c70cca90",
   "metadata": {},
   "outputs": [
    {
     "data": {
      "text/plain": [
       "0.75"
      ]
     },
     "execution_count": 10,
     "metadata": {},
     "output_type": "execute_result"
    }
   ],
   "source": [
    "from sklearn.metrics import accuracy_score\n",
    "\n",
    "accuracy_score(val_labels, np.argmax(predictions, axis=1))"
   ]
  },
  {
   "cell_type": "markdown",
   "id": "a322e627",
   "metadata": {},
   "source": [
    "## TASK 1.1c\n",
    "\n",
    "The simplicty of naïve Bayes means that we can quite easily interpret the model. In the code above, we used the functions you implemented, compute_feature_likelihoods and compute_class_priors, to train an NB classifier with our training set. Given this classifier, which are the five n-gram features that most strongly indicate that the document belongs to class 0? Store these features in the 'top_features' list below.    (4 marks)"
   ]
  },
  {
   "cell_type": "code",
   "execution_count": 11,
   "id": "b6369d13",
   "metadata": {},
   "outputs": [
    {
     "name": "stdout",
     "output_type": "stream",
     "text": [
      "['to the', 'in the', ', and', 'of the', 'climate change']\n"
     ]
    }
   ],
   "source": [
    "top_features = []\n",
    "\n",
    "### WRITE YOUR ANSWER HERE\n",
    "\n",
    "# Get the log-likelihoods for class 0\n",
    "log_likelihoods_class_0 = np.log(likelihoods[:, 0])\n",
    "\n",
    "# Get indices of the top 5 features with highest log-likelihood for class 0\n",
    "top_feature_indices = np.argsort(log_likelihoods_class_0)[-5:]  # Get top 5 indices\n",
    "\n",
    "# Map indices back to feature names using the vectorizer\n",
    "top_features = [vectorizer.get_feature_names_out()[i] for i in top_feature_indices]\n",
    "\n",
    "### END OF ANSWER\n",
    "\n",
    "### DO NOT MODIFY\n",
    "print(top_features)\n",
    "pd.DataFrame(top_features).to_csv('./outputs/11c_top_feats.csv')\n",
    "###"
   ]
  },
  {
   "cell_type": "markdown",
   "id": "caecba31",
   "metadata": {},
   "source": [
    "Up to this point, the classifier used bigrams features extracted using CountVectorizer with the wordnet tokenizer. \n",
    "\n",
    "## TASK 1.1d\n",
    "\n",
    "Your task is to improve the naïve Bayes classifier by changing the preprocessing or features only. It is up to you to decide how many changes are needed to improve the classifier -- a single change may be enough to achieve a good result (and maximum marks) and you should only include steps that help performance. Complete the 'preprocess_improved' function below, and run the cell to compute accuracy of the improved classifier on the validation set.     (3 marks)"
   ]
  },
  {
   "cell_type": "code",
   "execution_count": 12,
   "id": "e1933b46",
   "metadata": {},
   "outputs": [
    {
     "name": "stdout",
     "output_type": "stream",
     "text": [
      "0.755\n"
     ]
    }
   ],
   "source": [
    "from sklearn.feature_extraction.text import TfidfVectorizer\n",
    "\n",
    "def preprocess_improved(train_texts):\n",
    "    ### WRITE YOUR ANSWER HERE: Version 1\n",
    "\n",
    "    vectorizer = TfidfVectorizer(\n",
    "        ngram_range=(1, 2),  # unigrams + bigrams\n",
    "        stop_words='english',\n",
    "        lowercase=True,\n",
    "        min_df=2,           # ignore very rare words\n",
    "        max_df=0.95,        # ignore extremely frequent terms (e.g. \"climate\")\n",
    "        token_pattern=r'\\b\\w\\w+\\b'  # tokens with >=2 chars\n",
    "    )\n",
    "\n",
    "    X = vectorizer.fit_transform(train_texts)\n",
    "    X_val = vectorizer.transform(val_texts)\n",
    "    num_features = X.shape[1]\n",
    "    \n",
    "    ### END OF ANSWER\n",
    "\n",
    "    return X, X_val, vectorizer, num_features\n",
    "\n",
    "X, X_val, vectorizer, num_features = preprocess_improved(train_texts)\n",
    "class_priors = compute_class_priors(train_texts, train_labels)\n",
    "likelihoods = compute_feature_likelihoods(X, train_labels)\n",
    "predictions = NB_classify(class_priors, likelihoods, X_val)\n",
    "predictions_nb = np.argmax(predictions, axis=1)\n",
    "\n",
    "### DO NOT MODIFY\n",
    "pd.DataFrame(predictions_nb).to_csv('./outputs/11d_improved_preds.csv')\n",
    "accuracy_improved = accuracy_score(val_labels, predictions_nb)\n",
    "print(accuracy_improved)\n",
    "###"
   ]
  },
  {
   "cell_type": "code",
   "execution_count": 13,
   "id": "6c038041",
   "metadata": {},
   "outputs": [
    {
     "name": "stdout",
     "output_type": "stream",
     "text": [
      "0.755\n"
     ]
    }
   ],
   "source": [
    "def preprocess_improved(train_texts):\n",
    "    ### WRITE YOUR ANSWER HERE: Version 3\n",
    "\n",
    "    vectorizer = TfidfVectorizer(\n",
    "        ngram_range=(1, 2),\n",
    "        stop_words='english',\n",
    "        lowercase=True,\n",
    "        max_features=10000,  # limit dimensions for regularisation\n",
    "        min_df=2,\n",
    "        max_df=0.95,\n",
    "    )\n",
    "\n",
    "    X = vectorizer.fit_transform(train_texts)\n",
    "    X_val = vectorizer.transform(val_texts)\n",
    "    num_features = X.shape[1]\n",
    "    \n",
    "    ### END OF ANSWER\n",
    "\n",
    "    return X, X_val, vectorizer, num_features\n",
    "\n",
    "X, X_val, vectorizer, num_features = preprocess_improved(train_texts)\n",
    "class_priors = compute_class_priors(train_texts, train_labels)\n",
    "likelihoods = compute_feature_likelihoods(X, train_labels)\n",
    "predictions = NB_classify(class_priors, likelihoods, X_val)\n",
    "predictions_nb = np.argmax(predictions, axis=1)\n",
    "\n",
    "### DO NOT MODIFY\n",
    "pd.DataFrame(predictions_nb).to_csv('./outputs/11d_improved_preds.csv')\n",
    "accuracy_improved = accuracy_score(val_labels, predictions_nb)\n",
    "print(accuracy_improved)\n",
    "###"
   ]
  },
  {
   "cell_type": "code",
   "execution_count": 14,
   "id": "f89586d8",
   "metadata": {},
   "outputs": [
    {
     "name": "stdout",
     "output_type": "stream",
     "text": [
      "0.76\n"
     ]
    }
   ],
   "source": [
    "import re\n",
    "\n",
    "def preprocess_improved(train_texts):\n",
    "    ### WRITE YOUR ANSWER HERE: Version 2\n",
    "    \n",
    "    def clean_text(text):\n",
    "        text = text.lower()\n",
    "        text = re.sub(r'\\d+', '', text)  # remove digits\n",
    "        text = re.sub(r'[^\\w\\s]', '', text)  # remove punctuation\n",
    "        text = re.sub(r'\\s+', ' ', text)  # remove extra spaces\n",
    "        return text.strip()\n",
    "\n",
    "    cleaned_train = [clean_text(t) for t in train_texts]\n",
    "    cleaned_val = [clean_text(t) for t in val_texts]\n",
    "\n",
    "    vectorizer = TfidfVectorizer(\n",
    "        ngram_range=(1, 2),\n",
    "        stop_words='english',\n",
    "        min_df=2,\n",
    "        max_df=0.95,\n",
    "    )\n",
    "\n",
    "    X = vectorizer.fit_transform(cleaned_train)\n",
    "    X_val = vectorizer.transform(cleaned_val)\n",
    "    num_features = X.shape[1]\n",
    "    \n",
    "    ### END OF ANSWER\n",
    "\n",
    "    return X, X_val, vectorizer, num_features\n",
    "\n",
    "X, X_val, vectorizer, num_features = preprocess_improved(train_texts)\n",
    "class_priors = compute_class_priors(train_texts, train_labels)\n",
    "likelihoods = compute_feature_likelihoods(X, train_labels)\n",
    "predictions = NB_classify(class_priors, likelihoods, X_val)\n",
    "predictions_nb = np.argmax(predictions, axis=1)\n",
    "\n",
    "### DO NOT MODIFY\n",
    "pd.DataFrame(predictions_nb).to_csv('./outputs/11d_improved_preds.csv')\n",
    "accuracy_improved = accuracy_score(val_labels, predictions_nb)\n",
    "print(accuracy_improved)\n",
    "###"
   ]
  },
  {
   "cell_type": "markdown",
   "id": "f4c60bcf",
   "metadata": {},
   "source": [
    "## TASK 1.2\n",
    "\n",
    "Below is an implementation of a neural network classifier that we can apply to the same dataset. However, there are some mistakes in the code and some poor choices in the choice of parameters and architecture. Your task is to fix the errors, make better parameter choices, and improve the model's performance. **Modify the code within the next cell** to improve the neural network classifier, then run it and compute its accuracy using the code in the cell after that.   (8 marks)"
   ]
  },
  {
   "cell_type": "code",
   "execution_count": 15,
   "id": "a2035bd0",
   "metadata": {},
   "outputs": [
    {
     "data": {
      "application/vnd.jupyter.widget-view+json": {
       "model_id": "46dda4a80fea49288e55a17f038388f8",
       "version_major": 2,
       "version_minor": 0
      },
      "text/plain": [
       "Map:   0%|          | 0/800 [00:00<?, ? examples/s]"
      ]
     },
     "metadata": {},
     "output_type": "display_data"
    },
    {
     "data": {
      "application/vnd.jupyter.widget-view+json": {
       "model_id": "bfe5e40eddcf49e780b12a5d5bd73e9b",
       "version_major": 2,
       "version_minor": 0
      },
      "text/plain": [
       "Map:   0%|          | 0/200 [00:00<?, ? examples/s]"
      ]
     },
     "metadata": {},
     "output_type": "display_data"
    },
    {
     "name": "stderr",
     "output_type": "stream",
     "text": [
      "Some weights of RobertaModel were not initialized from the model checkpoint at climatebert/distilroberta-base-climate-f and are newly initialized: ['roberta.pooler.dense.bias', 'roberta.pooler.dense.weight']\n",
      "You should probably TRAIN this model on a down-stream task to be able to use it for predictions and inference.\n"
     ]
    },
    {
     "name": "stdout",
     "output_type": "stream",
     "text": [
      "Epoch 1/6 - Train Loss: 0.8968\n",
      "Epoch 1/6 - Val Loss: 0.4856\n",
      "Epoch 2/6 - Train Loss: 0.3916\n",
      "Epoch 2/6 - Val Loss: 0.4420\n",
      "Epoch 3/6 - Train Loss: 0.2347\n",
      "Epoch 3/6 - Val Loss: 0.4898\n",
      "Epoch 4/6 - Train Loss: 0.1285\n",
      "Epoch 4/6 - Val Loss: 0.5149\n",
      "Epoch 5/6 - Train Loss: 0.0545\n",
      "Epoch 5/6 - Val Loss: 0.6471\n",
      "Epoch 6/6 - Train Loss: 0.0359\n",
      "Epoch 6/6 - Val Loss: 0.6114\n",
      "0.835\n"
     ]
    }
   ],
   "source": [
    "### DO NOT MODIFY\n",
    "set_seed(my_student_number)\n",
    "###\n",
    "\n",
    "### WRITE YOUR ANSWER HERE: MODIFY THE CODE WITHIN THIS CELL\n",
    "\n",
    "from transformers import AutoTokenizer, AutoModel\n",
    "from torch.utils.data import DataLoader\n",
    "from torch import nn, optim\n",
    "import torch\n",
    "import numpy as np\n",
    "from sklearn.metrics import accuracy_score\n",
    "import pandas as pd\n",
    "\n",
    "# Hyperparameters\n",
    "sequence_length = 128\n",
    "batch_size = 16\n",
    "learning_rate = 2e-5  # Lower learning rate for fine-tuning transformers\n",
    "num_epochs = 6  # Slightly increased epochs\n",
    "\n",
    "# Tokenizer setup\n",
    "tokenizer = AutoTokenizer.from_pretrained(\"climatebert/distilroberta-base-climate-f\")\n",
    "\n",
    "def tokenize_function(examples):\n",
    "    return tokenizer(\n",
    "        examples[\"text\"],\n",
    "        padding=\"max_length\",\n",
    "        truncation=True,\n",
    "        max_length=sequence_length,\n",
    "        return_tensors=\"pt\"\n",
    "    )\n",
    "\n",
    "# Tokenize datasets\n",
    "train_dataset = train_dataset.map(tokenize_function, batched=True)\n",
    "train_dataset.set_format(type=\"torch\", columns=[\"input_ids\", \"attention_mask\", \"label\"])\n",
    "train_loader = DataLoader(train_dataset, batch_size=batch_size, shuffle=True)\n",
    "\n",
    "val_dataset = val_dataset.map(tokenize_function, batched=True)\n",
    "val_dataset.set_format(type=\"torch\", columns=[\"input_ids\", \"attention_mask\", \"label\"])\n",
    "val_loader = DataLoader(val_dataset, batch_size=batch_size)\n",
    "\n",
    "# Device setup\n",
    "device = torch.device(\"cuda\" if torch.cuda.is_available() else \"cpu\")\n",
    "\n",
    "# Define classifier\n",
    "class BERTClassifier(nn.Module):\n",
    "    def __init__(self, num_classes):\n",
    "        super(BERTClassifier, self).__init__()\n",
    "        self.bert = AutoModel.from_pretrained(\"climatebert/distilroberta-base-climate-f\")\n",
    "        self.dropout = nn.Dropout(0.2)  # Reduced dropout to retain more signal\n",
    "        self.classifier = nn.Linear(self.bert.config.hidden_size, num_classes)\n",
    "\n",
    "    def forward(self, input_ids, attention_mask):\n",
    "        outputs = self.bert(input_ids=input_ids, attention_mask=attention_mask)\n",
    "        cls_output = outputs.last_hidden_state[:, 0, :]  # Use [CLS] token\n",
    "        x = self.dropout(cls_output)\n",
    "        return self.classifier(x)\n",
    "\n",
    "# Initialize model\n",
    "model = BERTClassifier(num_classes=num_classes).to(device)\n",
    "\n",
    "# Training function\n",
    "def train(model, train_loader, val_loader, epochs, lr):\n",
    "    optimizer = optim.AdamW(model.parameters(), lr=lr)\n",
    "    loss_fn = nn.CrossEntropyLoss()\n",
    "\n",
    "    for epoch in range(epochs):\n",
    "        model.train()\n",
    "        train_losses = []\n",
    "\n",
    "        for batch in train_loader:\n",
    "            input_ids = batch[\"input_ids\"].to(device)\n",
    "            attention_mask = batch[\"attention_mask\"].to(device)\n",
    "            labels = batch[\"label\"].to(device).long()\n",
    "\n",
    "            optimizer.zero_grad()\n",
    "            outputs = model(input_ids, attention_mask)\n",
    "            loss = loss_fn(outputs, labels)\n",
    "            loss.backward()\n",
    "            optimizer.step()\n",
    "            train_losses.append(loss.item())\n",
    "\n",
    "        print(f\"Epoch {epoch+1}/{epochs} - Train Loss: {np.mean(train_losses):.4f}\")\n",
    "\n",
    "        # Validation step\n",
    "        model.eval()\n",
    "        val_losses = []\n",
    "\n",
    "        with torch.no_grad():\n",
    "            for batch in val_loader:\n",
    "                input_ids = batch[\"input_ids\"].to(device)\n",
    "                attention_mask = batch[\"attention_mask\"].to(device)\n",
    "                labels = batch[\"label\"].to(device).long()\n",
    "\n",
    "                outputs = model(input_ids, attention_mask)\n",
    "                val_loss = loss_fn(outputs, labels)\n",
    "                val_losses.append(val_loss.item())\n",
    "\n",
    "        print(f\"Epoch {epoch+1}/{epochs} - Val Loss: {np.mean(val_losses):.4f}\")\n",
    "\n",
    "# Train the model\n",
    "train(model, train_loader, val_loader, num_epochs, learning_rate)\n",
    "\n",
    "# Predict function\n",
    "def predict(model, data_loader):\n",
    "    model.eval()\n",
    "    all_preds = []\n",
    "\n",
    "    with torch.no_grad():\n",
    "        for batch in data_loader:\n",
    "            input_ids = batch[\"input_ids\"].to(device)\n",
    "            attention_mask = batch[\"attention_mask\"].to(device)\n",
    "\n",
    "            outputs = model(input_ids, attention_mask)\n",
    "            preds = torch.argmax(outputs, dim=1)\n",
    "            all_preds.extend(preds.cpu().numpy())\n",
    "\n",
    "    return all_preds\n",
    "\n",
    "predictions_nn = predict(model, val_loader)\n",
    "\n",
    "### END OF ANSWER\n",
    "\n",
    "### DO NOT MODIFY\n",
    "pd.DataFrame(predictions_nn).to_csv(\"./outputs/12_nn_preds.csv\")\n",
    "accuracy_nn = accuracy_score(val_labels, predictions_nn)\n",
    "print(accuracy_nn)\n",
    "###"
   ]
  },
  {
   "cell_type": "markdown",
   "id": "665ddf4e",
   "metadata": {},
   "source": [
    "We now explore the use of transformers for building a text classifier. First, let's look at how the process a document. We'll chose one at random from the training set:"
   ]
  },
  {
   "cell_type": "code",
   "execution_count": 16,
   "id": "54d2a23e",
   "metadata": {},
   "outputs": [],
   "source": [
    "### DO NOT MODIFY\n",
    "chosen_document = train_texts[np.random.randint(len(train_texts))]"
   ]
  },
  {
   "cell_type": "markdown",
   "id": "ca45d880",
   "metadata": {},
   "source": [
    "## TASK 1.3a\n",
    "\n",
    "Use the HuggingFace transformers library to load the pretrained BERT model \"prajjwal1/bert-tiny\". Obtain a document embedding for the chosen document given above. Comment your code to explain how it obtains a representation of the document.    (3 marks)"
   ]
  },
  {
   "cell_type": "code",
   "execution_count": 17,
   "id": "1266cce6",
   "metadata": {},
   "outputs": [
    {
     "name": "stdout",
     "output_type": "stream",
     "text": [
      "[ 1.2353779   1.2661054  -4.3272057  -0.56385696 -0.4071368   0.7104719\n",
      "  0.572997    1.6965109  -0.41146696  0.67622983  0.56909686  0.7041474\n",
      "  0.6614523  -0.02387507  1.868561    0.10236161 -1.3474936  -1.1051005\n",
      " -0.12682438  1.6499944   0.57981694  0.60964864  1.8799553  -0.19296098\n",
      "  1.3707212  -1.288001   -0.50483584  0.45296505 -0.6050616  -0.03914492\n",
      "  0.47469813 -0.7097695  -1.2004123  -0.10839067  0.6036101  -1.8727187\n",
      " -0.93857    -0.11339553 -2.208518   -1.1077261   0.07236955  0.7870133\n",
      "  0.04916956 -2.6308413   0.26365525 -2.8721178  -0.14297323 -0.06168235\n",
      " -0.5415106   0.8062427   0.92474943  2.2324717  -0.41735238 -0.02618527\n",
      " -0.8402096   0.22188668 -0.91551745 -0.8256168   0.74066985  2.6733189\n",
      "  0.63273907  0.89870435 -2.8598394  -1.5780993  -1.2796944   0.41822475\n",
      "  0.25070715  0.37491843 -0.80434376 -1.3791412  -0.6677291  -0.30917653\n",
      "  0.8928048   0.36302948 -1.1116061   0.31267783  1.018613   -0.06540625\n",
      "  0.7463695   0.82981306 -0.5589379  -0.59806204 -0.5720327   0.80632263\n",
      "  0.5018806   0.3777272   0.05831845 -1.0667363   1.1027937  -0.5948489\n",
      "  2.005238   -0.01074252  0.47559068 -0.8841537  -0.62116027 -0.25131664\n",
      " -0.60140085 -0.1467654   1.3886648   0.714999   -0.3191845   0.00507408\n",
      " -2.0589528  -0.5847492  -0.36836013 -0.98547506  0.4427387  -0.2688973\n",
      "  0.70356566 -0.33642522  0.22630486 -0.15978937 -0.59156764  0.35834578\n",
      " -0.21284395  0.01081042  0.23720908  0.39963508  0.37508583 -0.5824121\n",
      "  0.3181913   1.6647375   0.29289913  1.9917803  -0.66018975 -1.7320642\n",
      " -2.293884    0.33645377]\n"
     ]
    }
   ],
   "source": [
    "### DO NOT MODIFY\n",
    "set_seed(my_student_number)\n",
    "###\n",
    "\n",
    "### WRITE YOUR ANSWER HERE\n",
    "from transformers import AutoModel, AutoTokenizer\n",
    "\n",
    "# Load the pretrained BERT-tiny model and tokenizer\n",
    "model_name = \"prajjwal1/bert-tiny\"\n",
    "tokenizer = AutoTokenizer.from_pretrained(model_name)\n",
    "model = AutoModel.from_pretrained(model_name)\n",
    "\n",
    "# Tokenize the chosen document\n",
    "inputs = tokenizer(chosen_document, return_tensors=\"pt\", truncation=True, padding=\"max_length\", max_length=512)\n",
    "\n",
    "# Extract input tensors\n",
    "input_ids = inputs[\"input_ids\"]\n",
    "attention_mask = inputs[\"attention_mask\"]\n",
    "\n",
    "# Pass the input through the model to obtain embeddings\n",
    "with torch.no_grad():  # Disable gradient calculation for efficiency\n",
    "    outputs = model(input_ids=input_ids, attention_mask=attention_mask)\n",
    "\n",
    "# Extract the embedding of the [CLS] token (first token representation)\n",
    "doc_emb = outputs.last_hidden_state[:, 0, :].squeeze().numpy()  # Convert tensor to NumPy array\n",
    "\n",
    "\n",
    "### END OF ANSWER\n",
    "\n",
    "### DO NOT MODIFY\n",
    "pd.DataFrame(doc_emb).to_csv('./outputs/13a_sen_emb.csv')\n",
    "print(doc_emb)\n",
    "###"
   ]
  },
  {
   "cell_type": "markdown",
   "id": "aa93e1d9",
   "metadata": {},
   "source": [
    "## TASK 1.3b\n",
    "\n",
    "Using the same document embeddings method as the previous task (1.3a), find the most similar document to the 'chosen_document' from within the validation set (from the 'val_texts' object). Use a standard similarity metric that considers the direction but not the magnitude of the embedding vectors. (2 marks)"
   ]
  },
  {
   "cell_type": "code",
   "execution_count": 18,
   "id": "19d97094",
   "metadata": {},
   "outputs": [
    {
     "name": "stdout",
     "output_type": "stream",
     "text": [
      "In May 2020, BBVA was the first private financial institution in Europe to issue a COVID-19-related social bond and, two months later, the Bank was the first financial institution to issue contingent convertible perpetual bonds (CoCos) classified as green bonds, for EUR 1 billion. The funds will be used to finance eligible green assets in BBVA's portfolio. The portfolio is diversified into assets from different green sectors: energy efficiency, renewable energy, sustainable transportation, waste management and water management.\n",
      "ING issued a dual tranche five-year EUR 500 million and three-year USD 800 million green bond. This is ING’s first-ever green bond transaction. The money raised will go to projects in six categories eligible under ING’s newly established green bond framework, including renewable energy, green buildings, public transport, waste, water and energy efficiency. We have chosen a broad selection of sectors, which reflects our ambition to support sustainability across all industries and sectors.\n"
     ]
    }
   ],
   "source": [
    "### DO NOT MODIFY\n",
    "set_seed(my_student_number)\n",
    "###\n",
    "\n",
    "### WRITE YOUR ANSWER HERE\n",
    "from sklearn.metrics.pairwise import cosine_similarity\n",
    "from transformers import AutoModel, AutoTokenizer\n",
    "\n",
    "# Load the BERT-Tiny model and tokenizer\n",
    "model_name = \"prajjwal1/bert-tiny\"\n",
    "tokenizer = AutoTokenizer.from_pretrained(model_name)\n",
    "model = AutoModel.from_pretrained(model_name)\n",
    "\n",
    "def get_embedding(text):\n",
    "    \"\"\"Function to get the [CLS] token embedding for a given text.\"\"\"\n",
    "    inputs = tokenizer(text, return_tensors=\"pt\", truncation=True, padding=\"max_length\", max_length=512)\n",
    "    with torch.no_grad():\n",
    "        outputs = model(input_ids=inputs[\"input_ids\"], attention_mask=inputs[\"attention_mask\"])\n",
    "    return outputs.last_hidden_state[:, 0, :].squeeze().numpy()  # Extract [CLS] embedding\n",
    "\n",
    "# Get embedding for the chosen document\n",
    "chosen_embedding = get_embedding(chosen_document)\n",
    "\n",
    "# Compute embeddings for all validation documents\n",
    "val_embeddings = np.array([get_embedding(doc) for doc in val_texts])\n",
    "\n",
    "# Compute cosine similarity between chosen_document and each validation document\n",
    "similarities = cosine_similarity([chosen_embedding], val_embeddings)[0]\n",
    "\n",
    "# Find the index of the most similar document\n",
    "most_similar_index = np.argmax(similarities)\n",
    "most_similar_doc = val_texts[most_similar_index]\n",
    "\n",
    "### END OF ANSWER\n",
    "\n",
    "### DO NOT MODIFY\n",
    "pd.DataFrame([chosen_document, most_similar_doc]).to_csv(\"./outputs/13b_most_similar.csv\")\n",
    "print(chosen_document)\n",
    "print(most_similar_doc)\n",
    "###"
   ]
  },
  {
   "cell_type": "markdown",
   "id": "89641896",
   "metadata": {},
   "source": [
    "## TASK 1.3c\n",
    "\n",
    "Implement a classifier based on the same pretrained transformer model, \"prajjwal1/bert-tiny\". Evaluate your model's performance on the validation set. Use an 'auto class' from HuggingFace to build your classifier (see https://huggingface.co/docs/transformers/model_doc/auto).   (6 marks)"
   ]
  },
  {
   "cell_type": "code",
   "execution_count": 19,
   "id": "cd5a37d9",
   "metadata": {},
   "outputs": [
    {
     "name": "stderr",
     "output_type": "stream",
     "text": [
      "Some weights of BertForSequenceClassification were not initialized from the model checkpoint at prajjwal1/bert-tiny and are newly initialized: ['classifier.bias', 'classifier.weight']\n",
      "You should probably TRAIN this model on a down-stream task to be able to use it for predictions and inference.\n"
     ]
    },
    {
     "data": {
      "application/vnd.jupyter.widget-view+json": {
       "model_id": "0771a9272882408d94c8f944f381a288",
       "version_major": 2,
       "version_minor": 0
      },
      "text/plain": [
       "Map:   0%|          | 0/1000 [00:00<?, ? examples/s]"
      ]
     },
     "metadata": {},
     "output_type": "display_data"
    },
    {
     "data": {
      "application/vnd.jupyter.widget-view+json": {
       "model_id": "5a1ec28c9da241828179396887484f7b",
       "version_major": 2,
       "version_minor": 0
      },
      "text/plain": [
       "Map:   0%|          | 0/320 [00:00<?, ? examples/s]"
      ]
     },
     "metadata": {},
     "output_type": "display_data"
    },
    {
     "name": "stderr",
     "output_type": "stream",
     "text": [
      "/Users/wukehui/anaconda3/envs/text_analytics/lib/python3.11/site-packages/transformers/training_args.py:1575: FutureWarning: `evaluation_strategy` is deprecated and will be removed in version 4.46 of 🤗 Transformers. Use `eval_strategy` instead\n",
      "  warnings.warn(\n"
     ]
    },
    {
     "data": {
      "text/html": [
       "\n",
       "    <div>\n",
       "      \n",
       "      <progress value='375' max='375' style='width:300px; height:20px; vertical-align: middle;'></progress>\n",
       "      [375/375 00:08, Epoch 3/3]\n",
       "    </div>\n",
       "    <table border=\"1\" class=\"dataframe\">\n",
       "  <thead>\n",
       " <tr style=\"text-align: left;\">\n",
       "      <th>Epoch</th>\n",
       "      <th>Training Loss</th>\n",
       "      <th>Validation Loss</th>\n",
       "      <th>Accuracy</th>\n",
       "    </tr>\n",
       "  </thead>\n",
       "  <tbody>\n",
       "    <tr>\n",
       "      <td>1</td>\n",
       "      <td>1.085400</td>\n",
       "      <td>1.033014</td>\n",
       "      <td>0.521875</td>\n",
       "    </tr>\n",
       "    <tr>\n",
       "      <td>2</td>\n",
       "      <td>1.051600</td>\n",
       "      <td>1.009986</td>\n",
       "      <td>0.515625</td>\n",
       "    </tr>\n",
       "    <tr>\n",
       "      <td>3</td>\n",
       "      <td>1.021300</td>\n",
       "      <td>1.005229</td>\n",
       "      <td>0.518750</td>\n",
       "    </tr>\n",
       "  </tbody>\n",
       "</table><p>"
      ],
      "text/plain": [
       "<IPython.core.display.HTML object>"
      ]
     },
     "metadata": {},
     "output_type": "display_data"
    },
    {
     "data": {
      "text/html": [],
      "text/plain": [
       "<IPython.core.display.HTML object>"
      ]
     },
     "metadata": {},
     "output_type": "display_data"
    },
    {
     "name": "stdout",
     "output_type": "stream",
     "text": [
      "0.521875\n"
     ]
    }
   ],
   "source": [
    "### DO NOT MODIFY\n",
    "set_seed(my_student_number)\n",
    "###\n",
    "\n",
    "### WRITE YOUR ANSWER HERE\n",
    "\n",
    "from transformers import AutoTokenizer, AutoModelForSequenceClassification, Trainer, TrainingArguments\n",
    "from datasets import load_dataset\n",
    "from sklearn.metrics import accuracy_score\n",
    "import torch\n",
    "\n",
    "# Load the pretrained BERT-Tiny model and tokenizer\n",
    "model_name = \"prajjwal1/bert-tiny\"\n",
    "tokenizer = AutoTokenizer.from_pretrained(model_name)\n",
    "model = AutoModelForSequenceClassification.from_pretrained(model_name, num_labels=3)\n",
    "\n",
    "# Load the dataset\n",
    "train_dataset = load_dataset(\"climatebert/climate_sentiment\", split=\"train\")\n",
    "val_dataset = load_dataset(\"climatebert/climate_sentiment\", split=\"test\")\n",
    "\n",
    "# Tokenize the dataset\n",
    "def tokenize_function(examples):\n",
    "    return tokenizer(examples[\"text\"], padding=\"max_length\", truncation=True, max_length=128)\n",
    "\n",
    "# Apply the tokenization to both train and validation datasets\n",
    "train_dataset = train_dataset.map(tokenize_function, batched=True)\n",
    "val_dataset = val_dataset.map(tokenize_function, batched=True)\n",
    "\n",
    "# Set the format to PyTorch tensors\n",
    "train_dataset.set_format(type=\"torch\", columns=[\"input_ids\", \"attention_mask\", \"label\"])\n",
    "val_dataset.set_format(type=\"torch\", columns=[\"input_ids\", \"attention_mask\", \"label\"])\n",
    "\n",
    "# Define the compute_metrics function\n",
    "def compute_metrics(p):\n",
    "    preds = np.argmax(p.predictions, axis=1)\n",
    "    return {\"accuracy\": accuracy_score(p.label_ids, preds)}\n",
    "\n",
    "# Setup the training arguments\n",
    "training_args = TrainingArguments(\n",
    "    output_dir=\"./results\",\n",
    "    num_train_epochs=3,\n",
    "    per_device_train_batch_size=8,\n",
    "    per_device_eval_batch_size=8,\n",
    "    evaluation_strategy=\"epoch\",  # Evaluation strategy after each epoch\n",
    "    save_strategy=\"epoch\",  # Save strategy after each epoch\n",
    "    logging_dir=\"./logs\",\n",
    "    logging_steps=10,\n",
    "    save_steps=1000,\n",
    "    weight_decay=0.01,\n",
    "    load_best_model_at_end=True,  # Load the best model based on evaluation\n",
    "    metric_for_best_model=\"accuracy\"\n",
    ")\n",
    "\n",
    "# Initialize the Trainer\n",
    "trainer = Trainer(\n",
    "    model=model,\n",
    "    args=training_args,\n",
    "    train_dataset=train_dataset,\n",
    "    eval_dataset=val_dataset,\n",
    "    compute_metrics=compute_metrics,\n",
    ")\n",
    "\n",
    "# Train the model\n",
    "trainer.train()\n",
    "\n",
    "# Predict on the validation set\n",
    "predictions_bert = trainer.predict(val_dataset).predictions.argmax(axis=-1)\n",
    "\n",
    "### END OF ANSWER\n",
    "\n",
    "### DO NOT MODIFY\n",
    "pd.DataFrame(predictions_bert).to_csv('./outputs/13c_bert_preds.csv')\n",
    "accuracy_tinybert = accuracy_score(val_dataset[\"label\"], predictions_bert)\n",
    "print(accuracy_tinybert)\n",
    "###"
   ]
  },
  {
   "cell_type": "code",
   "execution_count": null,
   "id": "65faa134",
   "metadata": {},
   "outputs": [],
   "source": []
  }
 ],
 "metadata": {
  "kernelspec": {
   "display_name": "text_analytics",
   "language": "python",
   "name": "text_analytics"
  },
  "language_info": {
   "codemirror_mode": {
    "name": "ipython",
    "version": 3
   },
   "file_extension": ".py",
   "mimetype": "text/x-python",
   "name": "python",
   "nbconvert_exporter": "python",
   "pygments_lexer": "ipython3",
   "version": "3.11.11"
  }
 },
 "nbformat": 4,
 "nbformat_minor": 5
}
